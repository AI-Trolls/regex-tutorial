{
 "cells": [
  {
   "cell_type": "markdown",
   "metadata": {},
   "source": [
    "## regex in python\n",
    "- re 모듈을 통한 정규표현식 지원\n",
    "    - re 모듈을 이용해서 정규표현식 컴파일 후\n",
    "        - RegixObject 객체 반환\n",
    "    - 반환된 객체의 match() or search() 메서드에 찾고자하는 문자열 넘겨주면 \n",
    "        - MatchObject 객체 반환\n",
    "- 메서드\n",
    "    - https://docs.python.org/3/library/re.html#regular-expression-objects\n",
    "    - RegexObject\n",
    "        - match() - 문자열의 시작부분에서 regex 일치 검사 (일치 성공시 시작위치 항상 0)\n",
    "        - search() - 문자열 전체를 훑어 regex 일치 검사\n",
    "        - findall() - regex와 일치한 텍스트 모두 찾아 리스트 형태로 반환\n",
    "        - finditer() - regex와 일치한 텍스트를 모두 찾아 iterator 형태로 반환\n",
    "        - sub() - regex와 일치한 텍스트를 사용자가 지정한 텍스트로 치환\n",
    "    - MatchObject ; match, search가 반환\n",
    "        - group() - regex와 일치한 텍스트 반환\n",
    "        - start() - regex와 일치한 텍스트 시작 위치 반환\n",
    "        - end() - regex와 일치한 텍스트 마지막 위치 반환\n",
    "        - span() - regex와 일치한 텍스트의 시작 위치와 마지막 위치 tuple로 반환\n",
    "- 조건 달기 지원 x\n",
    "- \\E, \\1, \\L, \\u, \\U를 통한 대소문자 변호나 지원 x\n",
    "- \\z 지원 x\n",
    "- 먼말이지?"
   ]
  },
  {
   "cell_type": "markdown",
   "metadata": {},
   "source": [
    "### 사용 예시"
   ]
  },
  {
   "cell_type": "code",
   "execution_count": 1,
   "metadata": {},
   "outputs": [
    {
     "data": {
      "text/plain": [
       "'123'"
      ]
     },
     "execution_count": 1,
     "metadata": {},
     "output_type": "execute_result"
    }
   ],
   "source": [
    "import re\n",
    "p = re.compile(r'\\d{3}')\n",
    "m = p.match('12345')\n",
    "m.group()"
   ]
  },
  {
   "cell_type": "code",
   "execution_count": 2,
   "metadata": {},
   "outputs": [
    {
     "data": {
      "text/plain": [
       "'123'"
      ]
     },
     "execution_count": 2,
     "metadata": {},
     "output_type": "execute_result"
    }
   ],
   "source": [
    "m = re.match(r'\\d{3}', '123456')\n",
    "m.group()"
   ]
  },
  {
   "cell_type": "code",
   "execution_count": 3,
   "metadata": {},
   "outputs": [],
   "source": [
    "target = 'Hello, my name is Ben, Please visit my website at http://www.zum.com/.'"
   ]
  },
  {
   "cell_type": "markdown",
   "metadata": {},
   "source": [
    "### 특정 문자  찾기\n",
    "- 그냥 써주면 됨"
   ]
  },
  {
   "cell_type": "code",
   "execution_count": 4,
   "metadata": {},
   "outputs": [
    {
     "data": {
      "text/plain": [
       "'Ben'"
      ]
     },
     "execution_count": 4,
     "metadata": {},
     "output_type": "execute_result"
    }
   ],
   "source": [
    "re.search(r'Ben', target).group()"
   ]
  },
  {
   "cell_type": "code",
   "execution_count": 5,
   "metadata": {},
   "outputs": [
    {
     "data": {
      "text/plain": [
       "['my', 'my']"
      ]
     },
     "execution_count": 5,
     "metadata": {},
     "output_type": "execute_result"
    }
   ],
   "source": [
    "re.findall(r'my', target)"
   ]
  },
  {
   "cell_type": "markdown",
   "metadata": {},
   "source": [
    "### 임의의 문자 찾기\n",
    "- dot(.)으로 모든 문자를 매칭할 수 \n",
    "- re.match를 썼을 때 시작위치부터 매칭이 안되면 None이 반환됨"
   ]
  },
  {
   "cell_type": "code",
   "execution_count": 6,
   "metadata": {},
   "outputs": [],
   "source": [
    "target = 'abc.xls, abe.xls, ab3.xls, acb.xls'"
   ]
  },
  {
   "cell_type": "code",
   "execution_count": 7,
   "metadata": {},
   "outputs": [
    {
     "data": {
      "text/plain": [
       "'abc'"
      ]
     },
     "execution_count": 7,
     "metadata": {},
     "output_type": "execute_result"
    }
   ],
   "source": [
    "re.search(r'ab.', target).group()"
   ]
  },
  {
   "cell_type": "code",
   "execution_count": 8,
   "metadata": {},
   "outputs": [
    {
     "data": {
      "text/plain": [
       "['abc', 'abe', 'ab3', 'acb']"
      ]
     },
     "execution_count": 8,
     "metadata": {},
     "output_type": "execute_result"
    }
   ],
   "source": [
    "re.findall('a..', target)"
   ]
  },
  {
   "cell_type": "markdown",
   "metadata": {},
   "source": [
    "### 특수 문자 찾기\n",
    "- dot(.) 자체를 찾으려면 어떻게?\n",
    "- \\를 붙인다 (역슬래시)\n",
    "- \\ 자체를 찾고 싶을 땐 \\ 두번"
   ]
  },
  {
   "cell_type": "code",
   "execution_count": 9,
   "metadata": {},
   "outputs": [
    {
     "data": {
      "text/plain": [
       "['abc.xls', 'abe.xls', 'ab3.xls']"
      ]
     },
     "execution_count": 9,
     "metadata": {},
     "output_type": "execute_result"
    }
   ],
   "source": [
    "re.findall(r'ab.\\.xls', target)"
   ]
  },
  {
   "cell_type": "markdown",
   "metadata": {},
   "source": [
    "### 문자 집합으로 찾기\n",
    "- dot(.) 을 쓰면 모든 문자와 일치 되어버리니\n",
    "- 특정 집합안에 속하는 문자를 찾고 싶을 때, 문자 집합을 명시할 수 있다, 대괄호\\[\\]를 이용"
   ]
  },
  {
   "cell_type": "code",
   "execution_count": 10,
   "metadata": {},
   "outputs": [],
   "source": [
    "target = 'ka1.xls, ka2.xls, na1.xls, na2.xls, ca1.xls, sales1.xls, abc.xls'"
   ]
  },
  {
   "cell_type": "code",
   "execution_count": 11,
   "metadata": {},
   "outputs": [
    {
     "data": {
      "text/plain": [
       "['na1.xls', 'na2.xls', 'ca1.xls']"
      ]
     },
     "execution_count": 11,
     "metadata": {},
     "output_type": "execute_result"
    }
   ],
   "source": [
    "re.findall(r'[nc]a.\\.xls', target)"
   ]
  },
  {
   "cell_type": "markdown",
   "metadata": {},
   "source": [
    "캐럿(^)을 쓰면 해당 문자 집합을 제외한 나머지 패턴을 일치 시킨다"
   ]
  },
  {
   "cell_type": "code",
   "execution_count": 12,
   "metadata": {},
   "outputs": [
    {
     "data": {
      "text/plain": [
       "['na2.xls']"
      ]
     },
     "execution_count": 12,
     "metadata": {},
     "output_type": "execute_result"
    }
   ],
   "source": [
    "re.findall(r'[nc]a[^1]\\.xls', target)"
   ]
  },
  {
   "cell_type": "markdown",
   "metadata": {},
   "source": [
    "na, ca 바로 뒤에 숫자만 오게 하고 싶다면"
   ]
  },
  {
   "cell_type": "code",
   "execution_count": 13,
   "metadata": {},
   "outputs": [
    {
     "data": {
      "text/plain": [
       "['na1.xls', 'na2.xls', 'ca1.xls']"
      ]
     },
     "execution_count": 13,
     "metadata": {},
     "output_type": "execute_result"
    }
   ],
   "source": [
    "re.findall(r'[nc]a[0123456789]\\.xls', target)"
   ]
  },
  {
   "cell_type": "markdown",
   "metadata": {},
   "source": [
    "0부터 9까지나 A부터 Z까지 문자들의 범위를 간편하게 지정 가능하다  \n",
    "하이픈(-)을 이용하며, 하이픈은 대괄호 안에서만 메타 문자의 의미를 가진다 (밖에서는 그냥 문자)"
   ]
  },
  {
   "cell_type": "code",
   "execution_count": 14,
   "metadata": {},
   "outputs": [
    {
     "data": {
      "text/plain": [
       "['na1.xls', 'na2.xls', 'ca1.xls']"
      ]
     },
     "execution_count": 14,
     "metadata": {},
     "output_type": "execute_result"
    }
   ],
   "source": [
    "re.findall(r'[nc]a[0-9]\\.xls', target)"
   ]
  },
  {
   "cell_type": "markdown",
   "metadata": {},
   "source": [
    "사실 usa1.xls 가 있었다면 매칭이 되버림, 이를 제외하는 방법은 이후에"
   ]
  },
  {
   "cell_type": "markdown",
   "metadata": {},
   "source": [
    "문자 집합은 흔히 대소문자 구별 없이 검색할 때에도 사용"
   ]
  },
  {
   "cell_type": "code",
   "execution_count": 15,
   "metadata": {},
   "outputs": [],
   "source": [
    "target = 'The phrase \"regular expression\" is often abbreviated as RegEx or regex'"
   ]
  },
  {
   "cell_type": "code",
   "execution_count": 16,
   "metadata": {},
   "outputs": [
    {
     "data": {
      "text/plain": [
       "['RegEx', 'regex']"
      ]
     },
     "execution_count": 16,
     "metadata": {},
     "output_type": "execute_result"
    }
   ],
   "source": [
    "re.findall(r'[Rr]eg[Ee]x', target)"
   ]
  },
  {
   "cell_type": "code",
   "execution_count": 17,
   "metadata": {},
   "outputs": [],
   "source": [
    "#re.findall(r'[A-Za-z0-9]', target)"
   ]
  },
  {
   "cell_type": "code",
   "execution_count": 18,
   "metadata": {},
   "outputs": [],
   "source": [
    "target = '<body bgcolor=\"#336633\" text=\"#ffffff\"></body>'"
   ]
  },
  {
   "cell_type": "code",
   "execution_count": 19,
   "metadata": {},
   "outputs": [
    {
     "data": {
      "text/plain": [
       "['#336633', '#ffffff']"
      ]
     },
     "execution_count": 19,
     "metadata": {},
     "output_type": "execute_result"
    }
   ],
   "source": [
    "re.findall(r'#[0-9A-Fa-f][0-9A-Fa-f][0-9A-Fa-f][0-9A-Fa-f][0-9A-Fa-f][0-9A-Fa-f]', target)"
   ]
  },
  {
   "cell_type": "markdown",
   "metadata": {},
   "source": [
    "### 메타 문자에 대해서...\n",
    "- 메타 문자 자체를 찾고 싶을 땐 역슬래시로 이스케이핑이 필요하다."
   ]
  },
  {
   "cell_type": "code",
   "execution_count": 20,
   "metadata": {},
   "outputs": [],
   "source": [
    "target = 'var myArray = new Array(); if (myArray[0] == 0) {myArray[1] = 1; myArray[2] = 3; }'"
   ]
  },
  {
   "cell_type": "code",
   "execution_count": 21,
   "metadata": {},
   "outputs": [
    {
     "data": {
      "text/plain": [
       "['myArray[0]', 'myArray[1]', 'myArray[2]']"
      ]
     },
     "execution_count": 21,
     "metadata": {},
     "output_type": "execute_result"
    }
   ],
   "source": [
    "re.findall(r'myArray\\[[0-9]\\]', target)"
   ]
  },
  {
   "cell_type": "markdown",
   "metadata": {},
   "source": [
    "### 공백 메타 문자\n",
    "- \\b - 역스페이스\n",
    "- \\f - 페이지 넘김\n",
    "- \\n - 줄바꿈\n",
    "- \\r - 캐리지 리턴\n",
    "- \\t - 탭\n",
    "- \\v - 수직 탭\n",
    "- 참고\n",
    "    - 윈도우에선 줄 끝을 나타낼 때 \\r\\n을 사용\n",
    "    - 유닉스/리눅스에선 단순히 \\n만 사용"
   ]
  },
  {
   "cell_type": "code",
   "execution_count": 22,
   "metadata": {},
   "outputs": [],
   "source": [
    "target = \"\"\"안녕하세요 저는\n",
    "송제인 입니다. \\t\n",
    "\"\"\""
   ]
  },
  {
   "cell_type": "code",
   "execution_count": 23,
   "metadata": {},
   "outputs": [
    {
     "data": {
      "text/plain": [
       "['\\n', '\\n']"
      ]
     },
     "execution_count": 23,
     "metadata": {},
     "output_type": "execute_result"
    }
   ],
   "source": [
    "re.findall(r'\\n', target)"
   ]
  },
  {
   "cell_type": "markdown",
   "metadata": {},
   "source": [
    "### 자주 쓰는 문자 집합들은 특수한 메타 문자로 만들어 두었다.\n",
    "- classes of characters\n",
    "    - 숫자와 숫자가 아닌 문자\n",
    "        - \\d - 숫자 하나와 같음 == [0-9]\n",
    "        - \\D - 숫자를 제외한 문자 하나 == [^0-9]\n",
    "    - 영숫자 문자와 영숫자 아닌 문자 찾기\n",
    "        - \\w - 대소문자와 밑줄을 포함하는 모든 영숫자 - [a-zA-Z0-9_]\n",
    "        - \\W - 영숫자, 밑줄이 아닌 모든 문자 [^a-zA-Z0-9]\n",
    "    - 공백 문자와 공백이 아닌 문자 찾기\n",
    "        - \\s - 모든 공백 문자 - [\\f\\n\\r\\t\\v]\n",
    "        - \\S - 공백 문자가 아닌 모든 문자 - [^\\f\\n\\r\\t\\v]"
   ]
  },
  {
   "cell_type": "code",
   "execution_count": 24,
   "metadata": {},
   "outputs": [],
   "source": [
    "target = 'var myArray = new Array(); if (myArray[0] == 0) {myArray[1] = 1; myArray[2] = 3; myArray[10] = 5;}'"
   ]
  },
  {
   "cell_type": "markdown",
   "metadata": {},
   "source": [
    "[10]은 일치 되지 않은 것에 주목"
   ]
  },
  {
   "cell_type": "code",
   "execution_count": 25,
   "metadata": {},
   "outputs": [
    {
     "data": {
      "text/plain": [
       "['myArray[0]', 'myArray[1]', 'myArray[2]']"
      ]
     },
     "execution_count": 25,
     "metadata": {},
     "output_type": "execute_result"
    }
   ],
   "source": [
    "re.findall(r'myArray\\[\\d\\]', target)"
   ]
  },
  {
   "cell_type": "code",
   "execution_count": 26,
   "metadata": {},
   "outputs": [],
   "source": [
    "target = \"\"\"\n",
    "11213\n",
    "A1C2E3\n",
    "48075\n",
    "H1H2H2\n",
    "\"\"\""
   ]
  },
  {
   "cell_type": "markdown",
   "metadata": {},
   "source": [
    "왜 숫자로만 이루어진 애들은 못찾았는지 알아서 생각해보라함"
   ]
  },
  {
   "cell_type": "code",
   "execution_count": 27,
   "metadata": {},
   "outputs": [
    {
     "data": {
      "text/plain": [
       "['A1C2E3', 'H1H2H2']"
      ]
     },
     "execution_count": 27,
     "metadata": {},
     "output_type": "execute_result"
    }
   ],
   "source": [
    "re.findall(r'\\w\\d\\w\\d\\w\\d', target)"
   ]
  },
  {
   "cell_type": "code",
   "execution_count": 28,
   "metadata": {},
   "outputs": [
    {
     "data": {
      "text/plain": [
       "['\\n', '\\n', '\\n', '\\n', '\\n']"
      ]
     },
     "execution_count": 28,
     "metadata": {},
     "output_type": "execute_result"
    }
   ],
   "source": [
    "re.findall(r'\\s', target)"
   ]
  },
  {
   "cell_type": "markdown",
   "metadata": {},
   "source": [
    "### 16진수 8진수 표현\n",
    "- 16진수는 앞에 \\x를 붙여 표시\n",
    "    - \\x0A (아스키문자 10) == \\n\n",
    "- 8진수는 앞에 \\0을 붙여 표시\n",
    "    - \\011 (아스키문자 9) == \\t"
   ]
  },
  {
   "cell_type": "markdown",
   "metadata": {},
   "source": [
    "### 특정 문자가 하나 이상인 경우 찾기\n",
    "- 임의의 문자나, dot(.)을 이용하면 하나의 문자만 매칭 시킬 수 있었는데\n",
    "- 그 뒤에 +를 붙임으로써 최소 하나 이상 일치 할 경우를 찾을 수 있다.\n",
    "    - a+ -> 하나 이상 연속된 a 찾음\n",
    "    - [0-9]+ -> 하나 이상 연속된 숫자를 찾음\n",
    "- 앞으로 나오는 메타문자(+, *, ?)를 **quantifier**라고 부른다"
   ]
  },
  {
   "cell_type": "code",
   "execution_count": 29,
   "metadata": {},
   "outputs": [],
   "source": [
    "target = \"\"\"\n",
    "Send personal email to song.ben@forta.com. For questions\n",
    "about a book use support@forta.com. Feel free to send \n",
    "unsolicited email to spam@master.forta.com\n",
    "\"\"\""
   ]
  },
  {
   "cell_type": "markdown",
   "metadata": {},
   "source": [
    "song.ben, master.forta.com 패턴을 찾을 때 문제가 있음"
   ]
  },
  {
   "cell_type": "code",
   "execution_count": 30,
   "metadata": {},
   "outputs": [
    {
     "data": {
      "text/plain": [
       "['ben@forta.com', 'support@forta.com', 'spam@master.forta']"
      ]
     },
     "execution_count": 30,
     "metadata": {},
     "output_type": "execute_result"
    }
   ],
   "source": [
    "re.findall(r'\\w+@\\w+\\.\\w+', target)"
   ]
  },
  {
   "cell_type": "markdown",
   "metadata": {},
   "source": [
    "아래와 같이 문자 집합을 정의하면 가능하다"
   ]
  },
  {
   "cell_type": "code",
   "execution_count": 31,
   "metadata": {},
   "outputs": [
    {
     "data": {
      "text/plain": [
       "['song.ben@forta.com', 'support@forta.com', 'spam@master.forta.com']"
      ]
     },
     "execution_count": 31,
     "metadata": {},
     "output_type": "execute_result"
    }
   ],
   "source": [
    "re.findall(r'[\\w.]+@[\\w.]+\\.\\w+', target)"
   ]
  },
  {
   "cell_type": "markdown",
   "metadata": {},
   "source": [
    "### 특정 문자가 없는 경우나 하나 이상 연속하는 문자 찾기\n",
    "- 에스터리슼(*) 을 쓰자\n",
    "- 더하기(+)는 하나 이상 연속된 문자를 찾음"
   ]
  },
  {
   "cell_type": "code",
   "execution_count": 32,
   "metadata": {},
   "outputs": [],
   "source": [
    "target = 'Hello .ben@forta.com is my email address'"
   ]
  },
  {
   "cell_type": "markdown",
   "metadata": {},
   "source": [
    "주소 시작점이 dot(.)일 수 없는데 포함된 상황"
   ]
  },
  {
   "cell_type": "code",
   "execution_count": 33,
   "metadata": {},
   "outputs": [
    {
     "data": {
      "text/plain": [
       "['.ben@forta.com']"
      ]
     },
     "execution_count": 33,
     "metadata": {},
     "output_type": "execute_result"
    }
   ],
   "source": [
    "re.findall(r'[\\w.]+@[\\w.]+\\.\\w+', target)"
   ]
  },
  {
   "cell_type": "markdown",
   "metadata": {},
   "source": [
    "위 케이스를 피하고자 한다면 아래와 같이 작성할 수 있다  \n",
    "dot(.)이 있을 수도 없을 수도 있는 거니까. *으로 표현하는게 맞다"
   ]
  },
  {
   "cell_type": "code",
   "execution_count": 34,
   "metadata": {},
   "outputs": [
    {
     "data": {
      "text/plain": [
       "['ben@forta.com']"
      ]
     },
     "execution_count": 34,
     "metadata": {},
     "output_type": "execute_result"
    }
   ],
   "source": [
    "re.findall(r'\\w+[\\w.]*@[\\w.]+\\.\\w+', target)"
   ]
  },
  {
   "cell_type": "markdown",
   "metadata": {},
   "source": [
    "### 특정 문자가 없거나, 하나인 경우 찾기\n",
    "- 물음표를 박는다\n",
    "- 물음표는 자기 앞에 있는 문자가 없거나 하나가 있는 경우만 일치 시킨다"
   ]
  },
  {
   "cell_type": "code",
   "execution_count": 35,
   "metadata": {},
   "outputs": [],
   "source": [
    "target = 'The URL is http://www.zum.com/, to connect securely use https://www.zum.com/ instead'"
   ]
  },
  {
   "cell_type": "code",
   "execution_count": 36,
   "metadata": {},
   "outputs": [
    {
     "data": {
      "text/plain": [
       "['http://www.zum.com/']"
      ]
     },
     "execution_count": 36,
     "metadata": {},
     "output_type": "execute_result"
    }
   ],
   "source": [
    "re.findall(r'http://[\\w./]+', target)"
   ]
  },
  {
   "cell_type": "code",
   "execution_count": 37,
   "metadata": {},
   "outputs": [
    {
     "data": {
      "text/plain": [
       "['http://www.zum.com/', 'https://www.zum.com/']"
      ]
     },
     "execution_count": 37,
     "metadata": {},
     "output_type": "execute_result"
    }
   ],
   "source": [
    "re.findall(r'http[s]?://[\\w./]+', target)"
   ]
  },
  {
   "cell_type": "code",
   "execution_count": 38,
   "metadata": {},
   "outputs": [
    {
     "data": {
      "text/plain": [
       "['http://www.zum.com/', 'https://www.zum.com/']"
      ]
     },
     "execution_count": 38,
     "metadata": {},
     "output_type": "execute_result"
    }
   ],
   "source": [
    "re.findall(r'https?://[\\w./]+', target)"
   ]
  },
  {
   "cell_type": "markdown",
   "metadata": {},
   "source": [
    "앞서 살펴본 윈도우에서의 개행 \\r\\n과 리눅스/유닉스에서의 개행 \\n을 동시에 고려해야하는 문제는  \n",
    "[\\r]?\\n 으로 해결할 수 있다."
   ]
  },
  {
   "cell_type": "markdown",
   "metadata": {},
   "source": [
    "### 반복 횟수 및 범위를 지정; range interval)\n",
    "- 기존에 메타 문자 (+, *, ?) 로는 일치하는 문자 수를 지정할 수 없음\n",
    "- 중괄호를 이용해 구간(interval)을 지정할 수 있다.\n",
    "- {3}은 바로 앞에 있는 문자나 문자 집합이 세 번 연속해서 일치하는지 확인\n",
    "- {0,1}은 물음표와 같은 기능\n",
    "- {3,}은 최소 3번 이상 일치해야 함을 정의, {1,}는 더하기와 같은 기능"
   ]
  },
  {
   "cell_type": "code",
   "execution_count": 39,
   "metadata": {},
   "outputs": [],
   "source": [
    "target = '''\n",
    "<BODY BGCOLOR='#336633' TEXT='#FFFFFF'\n",
    "MARGINWIDTH='0' MARGINHEIGHT='0', TOPMARGIN='0' LEFTMARGIN='0'>\n",
    "'''"
   ]
  },
  {
   "cell_type": "code",
   "execution_count": 42,
   "metadata": {},
   "outputs": [
    {
     "data": {
      "text/plain": [
       "['#336633', '#FFFFFF']"
      ]
     },
     "execution_count": 42,
     "metadata": {},
     "output_type": "execute_result"
    }
   ],
   "source": [
    "re.findall(r'#[0-9A-Fa-f]{6}', target)"
   ]
  },
  {
   "cell_type": "code",
   "execution_count": 43,
   "metadata": {},
   "outputs": [],
   "source": [
    "target = '''\n",
    "4/8/03\n",
    "10-6-2004\n",
    "2/2/2\n",
    "01-01-01\n",
    "'''"
   ]
  },
  {
   "cell_type": "code",
   "execution_count": 44,
   "metadata": {},
   "outputs": [
    {
     "data": {
      "text/plain": [
       "['4/8/03', '10-6-2004', '01-01-01']"
      ]
     },
     "execution_count": 44,
     "metadata": {},
     "output_type": "execute_result"
    }
   ],
   "source": [
    "re.findall(r'\\d{1,2}[-\\/]\\d{1,2}[-\\/]\\d{2,4}', target)"
   ]
  },
  {
   "cell_type": "code",
   "execution_count": 45,
   "metadata": {},
   "outputs": [],
   "source": [
    "target = '''\n",
    "1001: $496.80\n",
    "1002: $1290.69\n",
    "1003: $26.43\n",
    "1004: $613.42\n",
    "'''"
   ]
  },
  {
   "cell_type": "markdown",
   "metadata": {},
   "source": [
    "최소 세자리 숫자"
   ]
  },
  {
   "cell_type": "code",
   "execution_count": 48,
   "metadata": {},
   "outputs": [
    {
     "data": {
      "text/plain": [
       "['1001: $496.80', '1002: $1290.69', '1004: $613.42']"
      ]
     },
     "execution_count": 48,
     "metadata": {},
     "output_type": "execute_result"
    }
   ],
   "source": [
    "re.findall(r'\\d+: \\$\\d{3,}\\.\\d{2}', target)"
   ]
  },
  {
   "cell_type": "markdown",
   "metadata": {},
   "source": [
    "### 별표나 더하기 메타 문자는 탐욕적이다\n",
    "- 가능한 큰 덩어리를 찾으려 한다\n",
    "- greedy quantifier를 lazy quantifier로 바꿀 수 있다\n",
    "    - 기존 quantifier에 물음표를 붙이면 됨\n",
    "        - * -> \\*?\n",
    "        - + -> +?\n",
    "        - {n,} -> {n,}?"
   ]
  },
  {
   "cell_type": "code",
   "execution_count": 49,
   "metadata": {},
   "outputs": [],
   "source": [
    "target = '''\n",
    "This offer is not available to customers living in <B>AK</B> and <B>HI</B>\n",
    "'''"
   ]
  },
  {
   "cell_type": "code",
   "execution_count": 50,
   "metadata": {},
   "outputs": [
    {
     "data": {
      "text/plain": [
       "['<B>AK</B> and <B>HI</B>']"
      ]
     },
     "execution_count": 50,
     "metadata": {},
     "output_type": "execute_result"
    }
   ],
   "source": [
    "re.findall(r'<[Bb]>.*</[Bb]>', target)"
   ]
  },
  {
   "cell_type": "code",
   "execution_count": 52,
   "metadata": {},
   "outputs": [
    {
     "data": {
      "text/plain": [
       "['<B>AK</B>', '<B>HI</B>']"
      ]
     },
     "execution_count": 52,
     "metadata": {},
     "output_type": "execute_result"
    }
   ],
   "source": [
    "re.findall(r'<[Bb]>.*?</[Bb]>', target)"
   ]
  },
  {
   "cell_type": "code",
   "execution_count": null,
   "metadata": {},
   "outputs": [],
   "source": []
  }
 ],
 "metadata": {
  "kernelspec": {
   "display_name": "Python 3",
   "language": "python",
   "name": "python3"
  },
  "language_info": {
   "codemirror_mode": {
    "name": "ipython",
    "version": 3
   },
   "file_extension": ".py",
   "mimetype": "text/x-python",
   "name": "python",
   "nbconvert_exporter": "python",
   "pygments_lexer": "ipython3",
   "version": "3.4.5"
  }
 },
 "nbformat": 4,
 "nbformat_minor": 2
}
